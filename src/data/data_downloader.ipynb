{
 "cells": [
  {
   "cell_type": "code",
   "execution_count": 72,
   "id": "turkish-decline",
   "metadata": {},
   "outputs": [],
   "source": [
    "import pandas as pd\n",
    "import requests\n",
    "import multiprocessing\n",
    "train_images_list = pd.read_csv(\"gs://uga-dsp/project3/train.txt\", header=None).to_numpy().squeeze()\n",
    "test_images_list = pd.read_csv(\"gs://uga-dsp/project3/test.txt\", header=None).to_numpy().squeeze()\n"
   ]
  },
  {
   "cell_type": "code",
   "execution_count": 73,
   "id": "electric-rogers",
   "metadata": {},
   "outputs": [],
   "source": [
    "import numpy as np"
   ]
  },
  {
   "cell_type": "code",
   "execution_count": 74,
   "id": "broadband-accommodation",
   "metadata": {},
   "outputs": [],
   "source": [
    "# all_files = np.append(train_images_list, test_images_list)\n",
    "train_data_files = train_images_list + '.tar'\n",
    "test_data_files = test_images_list + '.tar'\n",
    "mask_files = train_images_list + '.png'"
   ]
  },
  {
   "cell_type": "code",
   "execution_count": 75,
   "id": "adult-entrepreneur",
   "metadata": {},
   "outputs": [],
   "source": [
    "import urllib3\n",
    "http = urllib3.PoolManager()\n",
    "\n",
    "base_url_masks = 'http://storage.googleapis.com/uga-dsp/project3/masks/'\n",
    "base_url_data = 'http://storage.googleapis.com/uga-dsp/project3/data/'"
   ]
  },
  {
   "cell_type": "code",
   "execution_count": 76,
   "id": "acute-maryland",
   "metadata": {},
   "outputs": [],
   "source": [
    "def download_train_data(file_name):\n",
    "#     print(file_name)\n",
    "    filedata = http.request('GET', base_url_data + file_name).data\n",
    "    with open('/home/vraskap3/datas/train/' + file_name, 'wb') as f:\n",
    "        f.write(filedata)\n",
    "    tfile = tarfile.open(f'/home/vraskap3/datas/train/{file_name}')\n",
    "    tfile.extractall(path='/home/vraskap3/datas/train')\n",
    "    return file_name"
   ]
  },
  {
   "cell_type": "code",
   "execution_count": 77,
   "id": "broken-costa",
   "metadata": {},
   "outputs": [],
   "source": [
    "def download_test_data(file_name):\n",
    "    filedata = http.request('GET', base_url_data + file_name).data\n",
    "    with open('/home/vraskap3/datas/test/' + file_name, 'wb') as f:\n",
    "        f.write(filedata)\n",
    "    tfile = tarfile.open(f'/home/vraskap3/datas/test/{file_name}')\n",
    "    tfile.extractall(path='/home/vraskap3/datas/test/')\n",
    "    return file_name"
   ]
  },
  {
   "cell_type": "code",
   "execution_count": 78,
   "id": "popular-venezuela",
   "metadata": {},
   "outputs": [],
   "source": [
    "def download_masks(file_name):\n",
    "    filedata = http.request('GET', base_url_masks + file_name).data\n",
    "    with open('/home/vraskap3/datas/masks/' + file_name, 'wb') as f:\n",
    "        f.write(filedata)\n",
    "    return file_name"
   ]
  },
  {
   "cell_type": "code",
   "execution_count": 79,
   "id": "indie-blind",
   "metadata": {},
   "outputs": [],
   "source": [
    "from multiprocessing import Pool, cpu_count\n",
    "from functools import partial\n",
    "from io import BytesIO\n",
    "\n",
    "def downloader(func, file_list):\n",
    "    num_cores = multiprocessing.cpu_count()\n",
    "\n",
    "    pool = Pool(num_cores)\n",
    "    download_func = partial(func)\n",
    "    results = pool.map(download_func, file_list)\n",
    "    pool.close()\n",
    "    pool.join()"
   ]
  },
  {
   "cell_type": "code",
   "execution_count": 80,
   "id": "about-induction",
   "metadata": {},
   "outputs": [
    {
     "name": "stdout",
     "output_type": "stream",
     "text": [
      "Downloading masks\n",
      "Downloading data\n",
      "Downloading data\n"
     ]
    }
   ],
   "source": [
    "print(\"Downloading masks\")\n",
    "downloader(download_masks, mask_files)\n",
    "print(\"Downloading data\")\n",
    "downloader(download_train_data, train_data_files)\n",
    "print(\"Downloading data\")\n",
    "downloader(download_test_data, test_data_files)\n"
   ]
  },
  {
   "cell_type": "code",
   "execution_count": 81,
   "id": "advisory-gravity",
   "metadata": {},
   "outputs": [],
   "source": [
    "import tarfile"
   ]
  },
  {
   "cell_type": "code",
   "execution_count": null,
   "id": "reduced-clone",
   "metadata": {},
   "outputs": [],
   "source": []
  },
  {
   "cell_type": "code",
   "execution_count": null,
   "id": "isolated-trade",
   "metadata": {},
   "outputs": [],
   "source": []
  },
  {
   "cell_type": "code",
   "execution_count": null,
   "id": "unlimited-photographer",
   "metadata": {},
   "outputs": [],
   "source": []
  }
 ],
 "metadata": {
  "kernelspec": {
   "display_name": "Python 3",
   "language": "python",
   "name": "python3"
  },
  "language_info": {
   "codemirror_mode": {
    "name": "ipython",
    "version": 3
   },
   "file_extension": ".py",
   "mimetype": "text/x-python",
   "name": "python",
   "nbconvert_exporter": "python",
   "pygments_lexer": "ipython3",
   "version": "3.8.8"
  }
 },
 "nbformat": 4,
 "nbformat_minor": 5
}
